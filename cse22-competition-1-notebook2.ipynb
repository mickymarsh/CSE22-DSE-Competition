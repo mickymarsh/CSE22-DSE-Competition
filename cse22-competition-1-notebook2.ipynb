{
 "cells": [
  {
   "cell_type": "code",
   "execution_count": 1,
   "id": "cd2eb67a",
   "metadata": {
    "_cell_guid": "b1076dfc-b9ad-4769-8c92-a6c4dae69d19",
    "_uuid": "8f2839f25d086af736a60e9eeb907d3b93b6e0e5",
    "execution": {
     "iopub.execute_input": "2025-01-15T19:02:09.420062Z",
     "iopub.status.busy": "2025-01-15T19:02:09.419685Z",
     "iopub.status.idle": "2025-01-15T19:02:10.260083Z",
     "shell.execute_reply": "2025-01-15T19:02:10.258792Z"
    },
    "papermill": {
     "duration": 0.854477,
     "end_time": "2025-01-15T19:02:10.262394",
     "exception": false,
     "start_time": "2025-01-15T19:02:09.407917",
     "status": "completed"
    },
    "tags": []
   },
   "outputs": [
    {
     "name": "stdout",
     "output_type": "stream",
     "text": [
      "/kaggle/input/Predict-the-Customer-Satisfaction-CSE-22/sample_submission.csv\n",
      "/kaggle/input/Predict-the-Customer-Satisfaction-CSE-22/train_dataset.csv\n",
      "/kaggle/input/Predict-the-Customer-Satisfaction-CSE-22/test_dataset.csv\n"
     ]
    }
   ],
   "source": [
    "# This Python 3 environment comes with many helpful analytics libraries installed\n",
    "# It is defined by the kaggle/python Docker image: https://github.com/kaggle/docker-python\n",
    "# For example, here's several helpful packages to load\n",
    "\n",
    "import numpy as np # linear algebra\n",
    "import pandas as pd # data processing, CSV file I/O (e.g. pd.read_csv)\n",
    "\n",
    "# Input data files are available in the read-only \"../input/\" directory\n",
    "# For example, running this (by clicking run or pressing Shift+Enter) will list all files under the input directory\n",
    "\n",
    "import os\n",
    "for dirname, _, filenames in os.walk('/kaggle/input'):\n",
    "    for filename in filenames:\n",
    "        print(os.path.join(dirname, filename))\n",
    "\n",
    "# You can write up to 20GB to the current directory (/kaggle/working/) that gets preserved as output when you create a version using \"Save & Run All\" \n",
    "# You can also write temporary files to /kaggle/temp/, but they won't be saved outside of the current session"
   ]
  },
  {
   "cell_type": "code",
   "execution_count": 2,
   "id": "b00a861e",
   "metadata": {
    "execution": {
     "iopub.execute_input": "2025-01-15T19:02:10.284490Z",
     "iopub.status.busy": "2025-01-15T19:02:10.284001Z",
     "iopub.status.idle": "2025-01-15T19:02:13.551066Z",
     "shell.execute_reply": "2025-01-15T19:02:13.550002Z"
    },
    "papermill": {
     "duration": 3.279892,
     "end_time": "2025-01-15T19:02:13.553010",
     "exception": false,
     "start_time": "2025-01-15T19:02:10.273118",
     "status": "completed"
    },
    "tags": []
   },
   "outputs": [],
   "source": [
    "train = pd.read_csv(\"/kaggle/input/Predict-the-Customer-Satisfaction-CSE-22/train_dataset.csv\")\n",
    "test = pd.read_csv(\"/kaggle/input/Predict-the-Customer-Satisfaction-CSE-22/test_dataset.csv\")"
   ]
  },
  {
   "cell_type": "code",
   "execution_count": 3,
   "id": "0beabaf3",
   "metadata": {
    "execution": {
     "iopub.execute_input": "2025-01-15T19:02:13.574210Z",
     "iopub.status.busy": "2025-01-15T19:02:13.573860Z",
     "iopub.status.idle": "2025-01-15T19:02:13.855472Z",
     "shell.execute_reply": "2025-01-15T19:02:13.854570Z"
    },
    "papermill": {
     "duration": 0.294237,
     "end_time": "2025-01-15T19:02:13.857291",
     "exception": false,
     "start_time": "2025-01-15T19:02:13.563054",
     "status": "completed"
    },
    "tags": []
   },
   "outputs": [],
   "source": [
    "train.fillna(0, inplace=True)\n",
    "test.fillna(0, inplace=True)"
   ]
  },
  {
   "cell_type": "code",
   "execution_count": 4,
   "id": "dbf79d97",
   "metadata": {
    "execution": {
     "iopub.execute_input": "2025-01-15T19:02:13.878130Z",
     "iopub.status.busy": "2025-01-15T19:02:13.877774Z",
     "iopub.status.idle": "2025-01-15T19:02:13.937954Z",
     "shell.execute_reply": "2025-01-15T19:02:13.936824Z"
    },
    "papermill": {
     "duration": 0.072931,
     "end_time": "2025-01-15T19:02:13.940106",
     "exception": false,
     "start_time": "2025-01-15T19:02:13.867175",
     "status": "completed"
    },
    "tags": []
   },
   "outputs": [],
   "source": [
    "df = pd.concat([train,test], axis=0, ignore_index = True)"
   ]
  },
  {
   "cell_type": "code",
   "execution_count": 5,
   "id": "af6ee672",
   "metadata": {
    "execution": {
     "iopub.execute_input": "2025-01-15T19:02:13.961613Z",
     "iopub.status.busy": "2025-01-15T19:02:13.961288Z",
     "iopub.status.idle": "2025-01-15T19:02:14.386786Z",
     "shell.execute_reply": "2025-01-15T19:02:14.385892Z"
    },
    "papermill": {
     "duration": 0.438188,
     "end_time": "2025-01-15T19:02:14.388693",
     "exception": false,
     "start_time": "2025-01-15T19:02:13.950505",
     "status": "completed"
    },
    "tags": []
   },
   "outputs": [],
   "source": [
    "df['Date_Registered'] = pd.to_datetime(df['Date_Registered'])\n",
    "df['payment_datetime'] = pd.to_datetime(df['payment_datetime'])\n",
    "df['purchased_datetime'] = pd.to_datetime(df['purchased_datetime'])\n",
    "df['released_date'] = pd.to_datetime(df['released_date'])\n",
    "df['estimated_delivery_date'] = pd.to_datetime(df['estimated_delivery_date'])\n",
    "df['received_date'] = pd.to_datetime(df['received_date'])"
   ]
  },
  {
   "cell_type": "code",
   "execution_count": 6,
   "id": "8aafc3d9",
   "metadata": {
    "execution": {
     "iopub.execute_input": "2025-01-15T19:02:14.409315Z",
     "iopub.status.busy": "2025-01-15T19:02:14.408926Z",
     "iopub.status.idle": "2025-01-15T19:02:14.432323Z",
     "shell.execute_reply": "2025-01-15T19:02:14.430971Z"
    },
    "papermill": {
     "duration": 0.036435,
     "end_time": "2025-01-15T19:02:14.434892",
     "exception": false,
     "start_time": "2025-01-15T19:02:14.398457",
     "status": "completed"
    },
    "tags": []
   },
   "outputs": [],
   "source": [
    "df['loyalty_duration'] = (df['received_date'] - df['Date_Registered']).dt.days"
   ]
  },
  {
   "cell_type": "code",
   "execution_count": 7,
   "id": "b85533e6",
   "metadata": {
    "execution": {
     "iopub.execute_input": "2025-01-15T19:02:14.464206Z",
     "iopub.status.busy": "2025-01-15T19:02:14.463776Z",
     "iopub.status.idle": "2025-01-15T19:02:20.784298Z",
     "shell.execute_reply": "2025-01-15T19:02:20.783280Z"
    },
    "papermill": {
     "duration": 6.340412,
     "end_time": "2025-01-15T19:02:20.786292",
     "exception": false,
     "start_time": "2025-01-15T19:02:14.445880",
     "status": "completed"
    },
    "tags": []
   },
   "outputs": [],
   "source": [
    "df['order_frequency'] = df.apply(\n",
    "    lambda row: 0 if row['loyalty_duration'] == 0 else 1 / (row['loyalty_duration'] + 1),\n",
    "    axis=1\n",
    ")"
   ]
  },
  {
   "cell_type": "code",
   "execution_count": 8,
   "id": "87b1ba52",
   "metadata": {
    "execution": {
     "iopub.execute_input": "2025-01-15T19:02:20.807197Z",
     "iopub.status.busy": "2025-01-15T19:02:20.806847Z",
     "iopub.status.idle": "2025-01-15T19:02:27.406888Z",
     "shell.execute_reply": "2025-01-15T19:02:27.405865Z"
    },
    "papermill": {
     "duration": 6.612524,
     "end_time": "2025-01-15T19:02:27.408839",
     "exception": false,
     "start_time": "2025-01-15T19:02:20.796315",
     "status": "completed"
    },
    "tags": []
   },
   "outputs": [],
   "source": [
    "df['loyalty_points_per_day'] = df.apply(\n",
    "    lambda row: 0 if row['loyalty_points_redeemed'] == 0 else row['loyalty_points_redeemed'] / (row['loyalty_duration'] + 1),\n",
    "    axis=1\n",
    ")\n"
   ]
  },
  {
   "cell_type": "code",
   "execution_count": 9,
   "id": "873a28e2",
   "metadata": {
    "execution": {
     "iopub.execute_input": "2025-01-15T19:02:27.429947Z",
     "iopub.status.busy": "2025-01-15T19:02:27.429406Z",
     "iopub.status.idle": "2025-01-15T19:02:27.650817Z",
     "shell.execute_reply": "2025-01-15T19:02:27.649551Z"
    },
    "papermill": {
     "duration": 0.233949,
     "end_time": "2025-01-15T19:02:27.652849",
     "exception": false,
     "start_time": "2025-01-15T19:02:27.418900",
     "status": "completed"
    },
    "tags": []
   },
   "outputs": [],
   "source": [
    "df['Registered_year'] = df['Date_Registered'].dt.year\n",
    "df['Registered_month'] = df['Date_Registered'].dt.month\n",
    "df['Registered_day_of_week'] = df['Date_Registered'].dt.dayofweek\n",
    "\n",
    "df['payment_year'] = df['payment_datetime'].dt.year\n",
    "df['payment_month'] = df['payment_datetime'].dt.month\n",
    "df['payment_day_of_week'] = df['payment_datetime'].dt.dayofweek\n",
    "\n",
    "df['released_year'] = df['released_date'].dt.year\n",
    "df['released_month'] = df['released_date'].dt.month\n",
    "df['released_day_of_week'] = df['released_date'].dt.dayofweek\n",
    "\n",
    "df['estimated_delivery_year'] = df['estimated_delivery_date'].dt.year\n",
    "df['estimated_delivery_month'] = df['estimated_delivery_date'].dt.month\n",
    "df['estimated_delivery_day_of_week'] = df['estimated_delivery_date'].dt.dayofweek\n",
    "\n",
    "df['received_year'] = df['received_date'].dt.year\n",
    "df['received_month'] = df['received_date'].dt.month\n",
    "df['received_day_of_week'] = df['received_date'].dt.dayofweek\n",
    "\n",
    "df['purchase_year'] = df['purchased_datetime'].dt.year\n",
    "df['purchase_month'] = df['purchased_datetime'].dt.month\n",
    "df['purchase_day_of_week'] = df['purchased_datetime'].dt.dayofweek"
   ]
  },
  {
   "cell_type": "code",
   "execution_count": 10,
   "id": "12c410b6",
   "metadata": {
    "execution": {
     "iopub.execute_input": "2025-01-15T19:02:27.673602Z",
     "iopub.status.busy": "2025-01-15T19:02:27.673240Z",
     "iopub.status.idle": "2025-01-15T19:02:27.682891Z",
     "shell.execute_reply": "2025-01-15T19:02:27.681782Z"
    },
    "papermill": {
     "duration": 0.022242,
     "end_time": "2025-01-15T19:02:27.684729",
     "exception": false,
     "start_time": "2025-01-15T19:02:27.662487",
     "status": "completed"
    },
    "tags": []
   },
   "outputs": [],
   "source": [
    "df['Delay_of_delevary'] = df['received_date']-df['estimated_delivery_date']"
   ]
  },
  {
   "cell_type": "code",
   "execution_count": 11,
   "id": "9cd349d2",
   "metadata": {
    "execution": {
     "iopub.execute_input": "2025-01-15T19:02:27.704929Z",
     "iopub.status.busy": "2025-01-15T19:02:27.704523Z",
     "iopub.status.idle": "2025-01-15T19:02:27.714169Z",
     "shell.execute_reply": "2025-01-15T19:02:27.713055Z"
    },
    "papermill": {
     "duration": 0.02168,
     "end_time": "2025-01-15T19:02:27.715956",
     "exception": false,
     "start_time": "2025-01-15T19:02:27.694276",
     "status": "completed"
    },
    "tags": []
   },
   "outputs": [],
   "source": [
    "df['Delevary_duration'] = df['received_date'] - df['released_date']"
   ]
  },
  {
   "cell_type": "code",
   "execution_count": 12,
   "id": "19f848cb",
   "metadata": {
    "execution": {
     "iopub.execute_input": "2025-01-15T19:02:27.736545Z",
     "iopub.status.busy": "2025-01-15T19:02:27.736188Z",
     "iopub.status.idle": "2025-01-15T19:02:27.745908Z",
     "shell.execute_reply": "2025-01-15T19:02:27.744752Z"
    },
    "papermill": {
     "duration": 0.022475,
     "end_time": "2025-01-15T19:02:27.748148",
     "exception": false,
     "start_time": "2025-01-15T19:02:27.725673",
     "status": "completed"
    },
    "tags": []
   },
   "outputs": [],
   "source": [
    "df['Payment_duration'] = df['payment_datetime'] - df['purchased_datetime']"
   ]
  },
  {
   "cell_type": "code",
   "execution_count": 13,
   "id": "8a5cc3dd",
   "metadata": {
    "execution": {
     "iopub.execute_input": "2025-01-15T19:02:27.768706Z",
     "iopub.status.busy": "2025-01-15T19:02:27.768297Z",
     "iopub.status.idle": "2025-01-15T19:02:27.776869Z",
     "shell.execute_reply": "2025-01-15T19:02:27.775868Z"
    },
    "papermill": {
     "duration": 0.020522,
     "end_time": "2025-01-15T19:02:27.778488",
     "exception": false,
     "start_time": "2025-01-15T19:02:27.757966",
     "status": "completed"
    },
    "tags": []
   },
   "outputs": [
    {
     "data": {
      "text/plain": [
       "id                                               int64\n",
       "user_id                                         object\n",
       "age                                              int64\n",
       "Gender                                          object\n",
       "Date_Registered                         datetime64[ns]\n",
       "Is_current_loyalty_program_member               object\n",
       "loyalty_points_redeemed                          int64\n",
       "loyalty_tier                                   float64\n",
       "Received_tier_discount_percentage              float64\n",
       "Received_card_discount_percentage              float64\n",
       "Received_coupon_discount_percentage              int64\n",
       "product_category                                object\n",
       "Product_value                                    int64\n",
       "transaction_id                                  object\n",
       "order_id                                        object\n",
       "payment_method                                  object\n",
       "payment_datetime                        datetime64[ns]\n",
       "purchased_datetime                      datetime64[ns]\n",
       "purchase_medium                                 object\n",
       "final_payment                                  float64\n",
       "released_date                           datetime64[ns]\n",
       "estimated_delivery_date                 datetime64[ns]\n",
       "received_date                           datetime64[ns]\n",
       "shipping_method                                 object\n",
       "tracking_number                                 object\n",
       "customer_experience                             object\n",
       "loyalty_duration                                 int64\n",
       "order_frequency                                float64\n",
       "loyalty_points_per_day                         float64\n",
       "Registered_year                                  int32\n",
       "Registered_month                                 int32\n",
       "Registered_day_of_week                           int32\n",
       "payment_year                                     int32\n",
       "payment_month                                    int32\n",
       "payment_day_of_week                              int32\n",
       "released_year                                    int32\n",
       "released_month                                   int32\n",
       "released_day_of_week                             int32\n",
       "estimated_delivery_year                          int32\n",
       "estimated_delivery_month                         int32\n",
       "estimated_delivery_day_of_week                   int32\n",
       "received_year                                    int32\n",
       "received_month                                   int32\n",
       "received_day_of_week                             int32\n",
       "purchase_year                                    int32\n",
       "purchase_month                                   int32\n",
       "purchase_day_of_week                             int32\n",
       "Delay_of_delevary                      timedelta64[ns]\n",
       "Delevary_duration                      timedelta64[ns]\n",
       "Payment_duration                       timedelta64[ns]\n",
       "dtype: object"
      ]
     },
     "execution_count": 13,
     "metadata": {},
     "output_type": "execute_result"
    }
   ],
   "source": [
    "df.dtypes"
   ]
  },
  {
   "cell_type": "code",
   "execution_count": 14,
   "id": "f748bf3a",
   "metadata": {
    "execution": {
     "iopub.execute_input": "2025-01-15T19:02:27.800618Z",
     "iopub.status.busy": "2025-01-15T19:02:27.800293Z",
     "iopub.status.idle": "2025-01-15T19:02:27.826900Z",
     "shell.execute_reply": "2025-01-15T19:02:27.825887Z"
    },
    "papermill": {
     "duration": 0.039531,
     "end_time": "2025-01-15T19:02:27.828695",
     "exception": false,
     "start_time": "2025-01-15T19:02:27.789164",
     "status": "completed"
    },
    "tags": []
   },
   "outputs": [],
   "source": [
    "df['Delay_of_delevary_days'] = df['Delay_of_delevary'].dt.days\n",
    "\n",
    "df['Delevary_duration_days'] = df['Delevary_duration'].dt.days\n",
    "\n",
    "df['Payment_duration_days'] = df['Payment_duration'].dt.days"
   ]
  },
  {
   "cell_type": "code",
   "execution_count": 15,
   "id": "3e57b471",
   "metadata": {
    "execution": {
     "iopub.execute_input": "2025-01-15T19:02:27.850080Z",
     "iopub.status.busy": "2025-01-15T19:02:27.849707Z",
     "iopub.status.idle": "2025-01-15T19:02:27.863118Z",
     "shell.execute_reply": "2025-01-15T19:02:27.862190Z"
    },
    "papermill": {
     "duration": 0.026335,
     "end_time": "2025-01-15T19:02:27.865115",
     "exception": false,
     "start_time": "2025-01-15T19:02:27.838780",
     "status": "completed"
    },
    "tags": []
   },
   "outputs": [],
   "source": [
    "df['Delay_of_delevary_week'] = df['Delay_of_delevary_days'] //7\n",
    "df['Delevary_duration_week'] = df['Delevary_duration_days'] //7"
   ]
  },
  {
   "cell_type": "code",
   "execution_count": 16,
   "id": "757db124",
   "metadata": {
    "execution": {
     "iopub.execute_input": "2025-01-15T19:02:27.886010Z",
     "iopub.status.busy": "2025-01-15T19:02:27.885605Z",
     "iopub.status.idle": "2025-01-15T19:02:28.060183Z",
     "shell.execute_reply": "2025-01-15T19:02:28.058862Z"
    },
    "papermill": {
     "duration": 0.187179,
     "end_time": "2025-01-15T19:02:28.062204",
     "exception": false,
     "start_time": "2025-01-15T19:02:27.875025",
     "status": "completed"
    },
    "tags": []
   },
   "outputs": [],
   "source": [
    "df.drop(columns=['Delay_of_delevary', 'Delevary_duration', 'Payment_duration', 'payment_datetime', 'Date_Registered', 'purchased_datetime', 'released_date', 'estimated_delivery_date', 'received_date'], inplace=True)"
   ]
  },
  {
   "cell_type": "code",
   "execution_count": 17,
   "id": "a14a31fd",
   "metadata": {
    "execution": {
     "iopub.execute_input": "2025-01-15T19:02:28.084118Z",
     "iopub.status.busy": "2025-01-15T19:02:28.083595Z",
     "iopub.status.idle": "2025-01-15T19:02:28.092431Z",
     "shell.execute_reply": "2025-01-15T19:02:28.091355Z"
    },
    "papermill": {
     "duration": 0.021766,
     "end_time": "2025-01-15T19:02:28.094221",
     "exception": false,
     "start_time": "2025-01-15T19:02:28.072455",
     "status": "completed"
    },
    "tags": []
   },
   "outputs": [
    {
     "data": {
      "text/plain": [
       "<bound method NDFrame.describe of 0         ***9AWDD64SYI\n",
       "1         ***3SSRORRZ0X\n",
       "2         ***2VSB7MH7FN\n",
       "3         ***9XENHE2PKZ\n",
       "4         ***QTWLMEL0PE\n",
       "              ...      \n",
       "344935    ***YNJDKIJLK9\n",
       "344936    ***L3Y7UFTDQX\n",
       "344937    ***OLT1FFKXSG\n",
       "344938    ***HDJFMBF0LX\n",
       "344939    ***KRRE7JARGZ\n",
       "Name: tracking_number, Length: 344940, dtype: object>"
      ]
     },
     "execution_count": 17,
     "metadata": {},
     "output_type": "execute_result"
    }
   ],
   "source": [
    "df['tracking_number'].describe"
   ]
  },
  {
   "cell_type": "code",
   "execution_count": 18,
   "id": "5e2549e9",
   "metadata": {
    "execution": {
     "iopub.execute_input": "2025-01-15T19:02:28.121023Z",
     "iopub.status.busy": "2025-01-15T19:02:28.120558Z",
     "iopub.status.idle": "2025-01-15T19:02:28.189840Z",
     "shell.execute_reply": "2025-01-15T19:02:28.188739Z"
    },
    "papermill": {
     "duration": 0.087665,
     "end_time": "2025-01-15T19:02:28.192222",
     "exception": false,
     "start_time": "2025-01-15T19:02:28.104557",
     "status": "completed"
    },
    "tags": []
   },
   "outputs": [],
   "source": [
    "df.drop(columns=['tracking_number',  'user_id', 'transaction_id', 'order_id'], inplace=True)"
   ]
  },
  {
   "cell_type": "code",
   "execution_count": 19,
   "id": "142d0577",
   "metadata": {
    "execution": {
     "iopub.execute_input": "2025-01-15T19:02:28.219588Z",
     "iopub.status.busy": "2025-01-15T19:02:28.219138Z",
     "iopub.status.idle": "2025-01-15T19:02:30.106309Z",
     "shell.execute_reply": "2025-01-15T19:02:30.105300Z"
    },
    "papermill": {
     "duration": 1.900349,
     "end_time": "2025-01-15T19:02:30.108264",
     "exception": false,
     "start_time": "2025-01-15T19:02:28.207915",
     "status": "completed"
    },
    "tags": []
   },
   "outputs": [],
   "source": [
    "from sklearn.preprocessing import OneHotEncoder\n",
    "\n",
    "def one_hot_encode_and_add(df, column):\n",
    "    one_hot_encoder = OneHotEncoder(sparse_output = False)\n",
    "    one_hot_encoded_array = one_hot_encoder.fit_transform(df[[column]])\n",
    "    encoded_columns = pd.DataFrame(one_hot_encoded_array, columns=one_hot_encoder.get_feature_names_out([column]))\n",
    "    encoded_columns.index = df.index\n",
    "    df = pd.concat([df, encoded_columns], axis=1)\n",
    "    df = df.drop(columns=[column])\n",
    "    return df\n",
    "\n",
    "columns_to_encode = ['Gender', 'Is_current_loyalty_program_member', 'purchase_medium', 'shipping_method']\n",
    "\n",
    "for col in columns_to_encode:\n",
    "    df = one_hot_encode_and_add(df, col)"
   ]
  },
  {
   "cell_type": "code",
   "execution_count": 20,
   "id": "85601655",
   "metadata": {
    "execution": {
     "iopub.execute_input": "2025-01-15T19:02:30.129775Z",
     "iopub.status.busy": "2025-01-15T19:02:30.129276Z",
     "iopub.status.idle": "2025-01-15T19:02:30.279940Z",
     "shell.execute_reply": "2025-01-15T19:02:30.278946Z"
    },
    "papermill": {
     "duration": 0.163563,
     "end_time": "2025-01-15T19:02:30.281870",
     "exception": false,
     "start_time": "2025-01-15T19:02:30.118307",
     "status": "completed"
    },
    "tags": []
   },
   "outputs": [],
   "source": [
    "from sklearn.preprocessing import LabelEncoder\n",
    "\n",
    "encoder = LabelEncoder()\n",
    "df['payment_method_encoded'] = encoder.fit_transform(df['payment_method'])\n",
    "\n",
    "encoder = LabelEncoder()\n",
    "df['product_category_encoded'] = encoder.fit_transform(df['product_category'])\n",
    "\n",
    "df.drop(columns=['product_category', 'payment_method'], inplace=True)\n"
   ]
  },
  {
   "cell_type": "code",
   "execution_count": 21,
   "id": "f603940b",
   "metadata": {
    "execution": {
     "iopub.execute_input": "2025-01-15T19:02:30.303444Z",
     "iopub.status.busy": "2025-01-15T19:02:30.303082Z",
     "iopub.status.idle": "2025-01-15T19:02:30.665740Z",
     "shell.execute_reply": "2025-01-15T19:02:30.664620Z"
    },
    "papermill": {
     "duration": 0.376017,
     "end_time": "2025-01-15T19:02:30.667937",
     "exception": false,
     "start_time": "2025-01-15T19:02:30.291920",
     "status": "completed"
    },
    "tags": []
   },
   "outputs": [],
   "source": [
    "df['age'] = df['age'].astype('Int8')\n",
    "df['loyalty_points_redeemed'] = df['loyalty_points_redeemed'].astype('Int8')\n",
    "df['Registered_month'] = df['Registered_month'].astype('Int8')\n",
    "df['Registered_day_of_week'] = df['Registered_day_of_week'].astype('Int8')\n",
    "df['payment_month'] = df['payment_month'].astype('Int8')\n",
    "df['payment_day_of_week'] = df['payment_day_of_week'].astype('Int8')\n",
    "df['released_month'] = df['released_month'].astype('Int8')\n",
    "df['released_day_of_week'] = df['released_day_of_week'].astype('Int8')\n",
    "df['estimated_delivery_month'] = df['estimated_delivery_month'].astype('Int8')\n",
    "df['estimated_delivery_day_of_week'] = df['estimated_delivery_day_of_week'].astype('Int8')\n",
    "df['received_month'] = df['received_month'].astype('Int8')\n",
    "df['received_day_of_week'] = df['received_day_of_week'].astype('Int8')\n",
    "df['purchase_month'] = df['purchase_month'].astype('Int8')\n",
    "df['purchase_day_of_week'] = df['purchase_day_of_week'].astype('Int8')\n",
    "df['Delay_of_delevary_days'] = df['Delay_of_delevary_days'].astype('Int8')\n",
    "df['Delevary_duration_days'] = df['Delevary_duration_days'].astype('Int8')\n",
    "df['Payment_duration_days'] = df['Payment_duration_days'].astype('Int8')\n",
    "df['Delay_of_delevary_week'] = df['Delay_of_delevary_week'].astype('Int8')\n",
    "df['Delevary_duration_week'] = df['Delevary_duration_week'].astype('Int8')\n",
    "df['Gender_F'] = df['Gender_F'].astype('Int8')\n",
    "df['Gender_O'] = df['Gender_O'].astype('Int8')\n",
    "df['Gender_M'] = df['Gender_M'].astype('Int8')\n",
    "df['Is_current_loyalty_program_member_YES'] = df['Is_current_loyalty_program_member_YES'].astype('Int8')\n",
    "df['Is_current_loyalty_program_member_NO'] = df['Is_current_loyalty_program_member_NO'].astype('Int8')\n",
    "df['purchase_medium_in-store'] = df['purchase_medium_in-store'].astype('Int8')\n",
    "df['purchase_medium_online'] = df['purchase_medium_online'].astype('Int8')\n",
    "df['shipping_method_express'] = df['shipping_method_express'].astype('Int8')\n",
    "df['shipping_method_standard'] = df['shipping_method_standard'].astype('Int8')\n",
    "df['payment_method_encoded'] = df['payment_method_encoded'].astype('Int8')\n",
    "df['product_category_encoded'] = df['product_category_encoded'].astype('Int8')\n",
    "\n",
    "df['loyalty_tier'] = df['loyalty_tier'].astype('Float32')\n",
    "df['Received_card_discount_percentage'] = df['Received_card_discount_percentage'].astype('Float32')\n",
    "df['Received_coupon_discount_percentage'] = df['Received_coupon_discount_percentage'].astype('Float32')"
   ]
  },
  {
   "cell_type": "code",
   "execution_count": 22,
   "id": "ab7c61dc",
   "metadata": {
    "execution": {
     "iopub.execute_input": "2025-01-15T19:02:30.689730Z",
     "iopub.status.busy": "2025-01-15T19:02:30.689289Z",
     "iopub.status.idle": "2025-01-15T19:02:30.696132Z",
     "shell.execute_reply": "2025-01-15T19:02:30.695128Z"
    },
    "papermill": {
     "duration": 0.019755,
     "end_time": "2025-01-15T19:02:30.698106",
     "exception": false,
     "start_time": "2025-01-15T19:02:30.678351",
     "status": "completed"
    },
    "tags": []
   },
   "outputs": [],
   "source": [
    "df['avg_order_value'] = df['final_payment'] / df['Product_value']\n"
   ]
  },
  {
   "cell_type": "code",
   "execution_count": 23,
   "id": "27276135",
   "metadata": {
    "execution": {
     "iopub.execute_input": "2025-01-15T19:02:30.719848Z",
     "iopub.status.busy": "2025-01-15T19:02:30.719408Z",
     "iopub.status.idle": "2025-01-15T19:02:30.728403Z",
     "shell.execute_reply": "2025-01-15T19:02:30.727277Z"
    },
    "papermill": {
     "duration": 0.021945,
     "end_time": "2025-01-15T19:02:30.730213",
     "exception": false,
     "start_time": "2025-01-15T19:02:30.708268",
     "status": "completed"
    },
    "tags": []
   },
   "outputs": [],
   "source": [
    "df['total_discount_percentage'] = (df['Received_tier_discount_percentage'] +\n",
    "                                    df['Received_card_discount_percentage'] +\n",
    "                                    df['Received_coupon_discount_percentage'])\n"
   ]
  },
  {
   "cell_type": "code",
   "execution_count": 24,
   "id": "798a3c52",
   "metadata": {
    "execution": {
     "iopub.execute_input": "2025-01-15T19:02:30.751527Z",
     "iopub.status.busy": "2025-01-15T19:02:30.751176Z",
     "iopub.status.idle": "2025-01-15T19:02:30.759417Z",
     "shell.execute_reply": "2025-01-15T19:02:30.758396Z"
    },
    "papermill": {
     "duration": 0.020898,
     "end_time": "2025-01-15T19:02:30.761256",
     "exception": false,
     "start_time": "2025-01-15T19:02:30.740358",
     "status": "completed"
    },
    "tags": []
   },
   "outputs": [],
   "source": [
    "df['discount_ratio'] = df['total_discount_percentage'] / df['Product_value']"
   ]
  },
  {
   "cell_type": "code",
   "execution_count": 25,
   "id": "002a35e6",
   "metadata": {
    "execution": {
     "iopub.execute_input": "2025-01-15T19:02:30.782551Z",
     "iopub.status.busy": "2025-01-15T19:02:30.782229Z",
     "iopub.status.idle": "2025-01-15T19:02:30.821156Z",
     "shell.execute_reply": "2025-01-15T19:02:30.820127Z"
    },
    "papermill": {
     "duration": 0.051371,
     "end_time": "2025-01-15T19:02:30.822804",
     "exception": false,
     "start_time": "2025-01-15T19:02:30.771433",
     "status": "completed"
    },
    "tags": []
   },
   "outputs": [
    {
     "data": {
      "text/plain": [
       "id                                            0\n",
       "age                                           0\n",
       "loyalty_points_redeemed                       0\n",
       "loyalty_tier                                  0\n",
       "Received_tier_discount_percentage             0\n",
       "Received_card_discount_percentage             0\n",
       "Received_coupon_discount_percentage           0\n",
       "Product_value                                 0\n",
       "final_payment                                 0\n",
       "customer_experience                      137971\n",
       "loyalty_duration                              0\n",
       "order_frequency                               0\n",
       "loyalty_points_per_day                        0\n",
       "Registered_year                               0\n",
       "Registered_month                              0\n",
       "Registered_day_of_week                        0\n",
       "payment_year                                  0\n",
       "payment_month                                 0\n",
       "payment_day_of_week                           0\n",
       "released_year                                 0\n",
       "released_month                                0\n",
       "released_day_of_week                          0\n",
       "estimated_delivery_year                       0\n",
       "estimated_delivery_month                      0\n",
       "estimated_delivery_day_of_week                0\n",
       "received_year                                 0\n",
       "received_month                                0\n",
       "received_day_of_week                          0\n",
       "purchase_year                                 0\n",
       "purchase_month                                0\n",
       "purchase_day_of_week                          0\n",
       "Delay_of_delevary_days                        0\n",
       "Delevary_duration_days                        0\n",
       "Payment_duration_days                         0\n",
       "Delay_of_delevary_week                        0\n",
       "Delevary_duration_week                        0\n",
       "Gender_F                                      0\n",
       "Gender_M                                      0\n",
       "Gender_O                                      0\n",
       "Is_current_loyalty_program_member_NO          0\n",
       "Is_current_loyalty_program_member_YES         0\n",
       "purchase_medium_in-store                      0\n",
       "purchase_medium_online                        0\n",
       "shipping_method_express                       0\n",
       "shipping_method_standard                      0\n",
       "payment_method_encoded                        0\n",
       "product_category_encoded                      0\n",
       "avg_order_value                               0\n",
       "total_discount_percentage                     0\n",
       "discount_ratio                                0\n",
       "dtype: int64"
      ]
     },
     "execution_count": 25,
     "metadata": {},
     "output_type": "execute_result"
    }
   ],
   "source": [
    "df.isnull().sum()"
   ]
  },
  {
   "cell_type": "code",
   "execution_count": 26,
   "id": "080fc737",
   "metadata": {
    "execution": {
     "iopub.execute_input": "2025-01-15T19:02:30.845205Z",
     "iopub.status.busy": "2025-01-15T19:02:30.844839Z",
     "iopub.status.idle": "2025-01-15T19:02:30.975606Z",
     "shell.execute_reply": "2025-01-15T19:02:30.974482Z"
    },
    "papermill": {
     "duration": 0.144553,
     "end_time": "2025-01-15T19:02:30.977675",
     "exception": false,
     "start_time": "2025-01-15T19:02:30.833122",
     "status": "completed"
    },
    "tags": []
   },
   "outputs": [],
   "source": [
    "train = df[df.index < 206969]\n",
    "test = df[df.index >= 206969]\n",
    "test = test.drop(columns=['customer_experience'])"
   ]
  },
  {
   "cell_type": "code",
   "execution_count": 27,
   "id": "6889bb93",
   "metadata": {
    "execution": {
     "iopub.execute_input": "2025-01-15T19:02:31.001497Z",
     "iopub.status.busy": "2025-01-15T19:02:31.001136Z",
     "iopub.status.idle": "2025-01-15T19:02:31.106875Z",
     "shell.execute_reply": "2025-01-15T19:02:31.105696Z"
    },
    "papermill": {
     "duration": 0.120364,
     "end_time": "2025-01-15T19:02:31.108775",
     "exception": false,
     "start_time": "2025-01-15T19:02:30.988411",
     "status": "completed"
    },
    "tags": []
   },
   "outputs": [
    {
     "name": "stderr",
     "output_type": "stream",
     "text": [
      "<ipython-input-27-a19c12a3c14b>:1: SettingWithCopyWarning: \n",
      "A value is trying to be set on a copy of a slice from a DataFrame.\n",
      "Try using .loc[row_indexer,col_indexer] = value instead\n",
      "\n",
      "See the caveats in the documentation: https://pandas.pydata.org/pandas-docs/stable/user_guide/indexing.html#returning-a-view-versus-a-copy\n",
      "  train['customer_experience'] = train['customer_experience'].replace('bad',0)\n",
      "<ipython-input-27-a19c12a3c14b>:2: SettingWithCopyWarning: \n",
      "A value is trying to be set on a copy of a slice from a DataFrame.\n",
      "Try using .loc[row_indexer,col_indexer] = value instead\n",
      "\n",
      "See the caveats in the documentation: https://pandas.pydata.org/pandas-docs/stable/user_guide/indexing.html#returning-a-view-versus-a-copy\n",
      "  train['customer_experience'] = train['customer_experience'].replace('neutral',1)\n",
      "<ipython-input-27-a19c12a3c14b>:3: SettingWithCopyWarning: \n",
      "A value is trying to be set on a copy of a slice from a DataFrame.\n",
      "Try using .loc[row_indexer,col_indexer] = value instead\n",
      "\n",
      "See the caveats in the documentation: https://pandas.pydata.org/pandas-docs/stable/user_guide/indexing.html#returning-a-view-versus-a-copy\n",
      "  train['customer_experience'] = train['customer_experience'].replace('good',2)\n"
     ]
    }
   ],
   "source": [
    "train['customer_experience'] = train['customer_experience'].replace('bad',0)\n",
    "train['customer_experience'] = train['customer_experience'].replace('neutral',1)\n",
    "train['customer_experience'] = train['customer_experience'].replace('good',2)"
   ]
  },
  {
   "cell_type": "code",
   "execution_count": 28,
   "id": "326e00c8",
   "metadata": {
    "execution": {
     "iopub.execute_input": "2025-01-15T19:02:31.130866Z",
     "iopub.status.busy": "2025-01-15T19:02:31.130488Z",
     "iopub.status.idle": "2025-01-15T19:02:31.490474Z",
     "shell.execute_reply": "2025-01-15T19:02:31.489541Z"
    },
    "papermill": {
     "duration": 0.373151,
     "end_time": "2025-01-15T19:02:31.492440",
     "exception": false,
     "start_time": "2025-01-15T19:02:31.119289",
     "status": "completed"
    },
    "tags": []
   },
   "outputs": [],
   "source": [
    "from sklearn.feature_selection import mutual_info_regression\n",
    "import numpy as np              # For numerical operations\n",
    "import matplotlib.pyplot as plt # For plotting\n",
    "\n",
    "\n",
    "def make_mi_scores(X, y):\n",
    "    X = X.copy()\n",
    "    X = X.dropna() \n",
    "    y = y.loc[X.dropna().index]\n",
    "    discrete_features = [pd.api.types.is_integer_dtype(t) for t in X.dtypes]\n",
    "    mi_scores = mutual_info_regression(X, y, discrete_features=discrete_features, random_state=0)\n",
    "    mi_scores = pd.Series(mi_scores, name=\"MI Scores\", index=X.columns)\n",
    "    mi_scores = mi_scores.sort_values(ascending=False)\n",
    "    return mi_scores\n",
    "\n",
    "\n",
    "def plot_mi_scores(scores):\n",
    "    scores = scores.sort_values(ascending=True)\n",
    "    width = np.arange(len(scores))\n",
    "    ticks = list(scores.index)\n",
    "    plt.barh(width, scores)\n",
    "    plt.yticks(width, ticks)\n",
    "    plt.title(\"Mutual Information Scores\")\n",
    "    \n",
    "train_x = train.drop(columns=['customer_experience','id'], axis=1)  \n",
    "train_y = train['customer_experience']\n",
    "\n",
    "  "
   ]
  },
  {
   "cell_type": "code",
   "execution_count": 29,
   "id": "c5c01eed",
   "metadata": {
    "execution": {
     "iopub.execute_input": "2025-01-15T19:02:31.514942Z",
     "iopub.status.busy": "2025-01-15T19:02:31.514552Z",
     "iopub.status.idle": "2025-01-15T19:04:26.847259Z",
     "shell.execute_reply": "2025-01-15T19:04:26.846187Z"
    },
    "papermill": {
     "duration": 115.347174,
     "end_time": "2025-01-15T19:04:26.850647",
     "exception": false,
     "start_time": "2025-01-15T19:02:31.503473",
     "status": "completed"
    },
    "tags": []
   },
   "outputs": [
    {
     "name": "stdout",
     "output_type": "stream",
     "text": [
      "received_day_of_week                     0.063214\n",
      "loyalty_duration                         0.044471\n",
      "order_frequency                          0.040421\n",
      "Delevary_duration_days                   0.029676\n",
      "avg_order_value                          0.028699\n",
      "Delevary_duration_week                   0.027271\n",
      "loyalty_points_per_day                   0.027068\n",
      "Payment_duration_days                    0.023850\n",
      "Delay_of_delevary_week                   0.021180\n",
      "total_discount_percentage                0.017294\n",
      "Registered_year                          0.015970\n",
      "Delay_of_delevary_days                   0.014204\n",
      "Gender_M                                 0.013539\n",
      "Gender_O                                 0.012749\n",
      "Gender_F                                 0.012588\n",
      "purchase_medium_in-store                 0.012285\n",
      "purchase_medium_online                   0.012285\n",
      "shipping_method_express                  0.012090\n",
      "shipping_method_standard                 0.012090\n",
      "Received_card_discount_percentage        0.011647\n",
      "Is_current_loyalty_program_member_NO     0.011007\n",
      "Is_current_loyalty_program_member_YES    0.011007\n",
      "received_year                            0.009936\n",
      "estimated_delivery_year                  0.009792\n",
      "payment_year                             0.009768\n",
      "purchase_year                            0.009768\n",
      "released_year                            0.009649\n",
      "Received_coupon_discount_percentage      0.005854\n",
      "Product_value                            0.005303\n",
      "estimated_delivery_day_of_week           0.004913\n",
      "released_month                           0.003488\n",
      "age                                      0.003334\n",
      "purchase_day_of_week                     0.003310\n",
      "payment_day_of_week                      0.003310\n",
      "purchase_month                           0.003285\n",
      "payment_month                            0.003285\n",
      "loyalty_points_redeemed                  0.003088\n",
      "received_month                           0.003031\n",
      "final_payment                            0.002799\n",
      "loyalty_tier                             0.002685\n",
      "estimated_delivery_month                 0.002414\n",
      "Received_tier_discount_percentage        0.002075\n",
      "released_day_of_week                     0.001769\n",
      "discount_ratio                           0.001617\n",
      "Registered_month                         0.001166\n",
      "payment_method_encoded                   0.000872\n",
      "Registered_day_of_week                   0.000000\n",
      "product_category_encoded                 0.000000\n",
      "Name: MI Scores, dtype: float64\n"
     ]
    },
    {
     "data": {
      "image/png": "[encoded data removed]",
      "text/plain": [
       "<Figure size 800x500 with 1 Axes>"
      ]
     },
     "metadata": {},
     "output_type": "display_data"
    }
   ],
   "source": [
    "mi_scores = make_mi_scores(train_x, train_y)\n",
    "\n",
    "print(mi_scores)\n",
    "# print(mi_scores.tail(20))  \n",
    "\n",
    "plt.figure(dpi=100, figsize=(8, 5))\n",
    "plot_mi_scores(mi_scores)\n",
    "# plot_mi_scores(mi_scores.tail(20))"
   ]
  },
  {
   "cell_type": "code",
   "execution_count": null,
   "id": "ff033e44",
   "metadata": {
    "papermill": {
     "duration": 0.012527,
     "end_time": "2025-01-15T19:04:26.876254",
     "exception": false,
     "start_time": "2025-01-15T19:04:26.863727",
     "status": "completed"
    },
    "tags": []
   },
   "outputs": [],
   "source": []
  },
  {
   "cell_type": "code",
   "execution_count": 30,
   "id": "8a311f86",
   "metadata": {
    "execution": {
     "iopub.execute_input": "2025-01-15T19:04:26.903231Z",
     "iopub.status.busy": "2025-01-15T19:04:26.902907Z",
     "iopub.status.idle": "2025-01-15T19:04:27.094319Z",
     "shell.execute_reply": "2025-01-15T19:04:27.093490Z"
    },
    "papermill": {
     "duration": 0.207076,
     "end_time": "2025-01-15T19:04:27.096216",
     "exception": false,
     "start_time": "2025-01-15T19:04:26.889140",
     "status": "completed"
    },
    "tags": []
   },
   "outputs": [],
   "source": [
    "from sklearn.model_selection import train_test_split\n",
    "\n",
    "x = train.drop(columns=['customer_experience'], axis=1)\n",
    "y = train['customer_experience']\n",
    "\n",
    "x_train, x_test, y_train, y_test = train_test_split(x, y, test_size=0.2, random_state = 42, stratify = y)"
   ]
  },
  {
   "cell_type": "code",
   "execution_count": 31,
   "id": "1ca2e571",
   "metadata": {
    "execution": {
     "iopub.execute_input": "2025-01-15T19:04:27.123707Z",
     "iopub.status.busy": "2025-01-15T19:04:27.123336Z",
     "iopub.status.idle": "2025-01-15T19:04:28.278820Z",
     "shell.execute_reply": "2025-01-15T19:04:28.277936Z"
    },
    "papermill": {
     "duration": 1.171282,
     "end_time": "2025-01-15T19:04:28.280682",
     "exception": false,
     "start_time": "2025-01-15T19:04:27.109400",
     "status": "completed"
    },
    "tags": []
   },
   "outputs": [],
   "source": [
    "from sklearn.preprocessing import RobustScaler\n",
    "\n",
    "scaler = RobustScaler()\n",
    "x_train_scaled = scaler.fit_transform(x)\n",
    "x_test_scaled = scaler.transform(test)\n",
    "\n",
    "x = pd.DataFrame(x_train_scaled, columns=x.columns, index=x.index)\n",
    "test = pd.DataFrame(x_test_scaled, columns=test.columns, index=test.index)"
   ]
  },
  {
   "cell_type": "markdown",
   "id": "7b36aa13",
   "metadata": {
    "papermill": {
     "duration": 0.012433,
     "end_time": "2025-01-15T19:04:28.306157",
     "exception": false,
     "start_time": "2025-01-15T19:04:28.293724",
     "status": "completed"
    },
    "tags": []
   },
   "source": [
    "<h2>XGBClassifier</h2>"
   ]
  },
  {
   "cell_type": "code",
   "execution_count": 32,
   "id": "c3445e3d",
   "metadata": {
    "execution": {
     "iopub.execute_input": "2025-01-15T19:04:28.333184Z",
     "iopub.status.busy": "2025-01-15T19:04:28.332848Z",
     "iopub.status.idle": "2025-01-15T19:09:55.760114Z",
     "shell.execute_reply": "2025-01-15T19:09:55.759015Z"
    },
    "papermill": {
     "duration": 327.442787,
     "end_time": "2025-01-15T19:09:55.761909",
     "exception": false,
     "start_time": "2025-01-15T19:04:28.319122",
     "status": "completed"
    },
    "tags": []
   },
   "outputs": [
    {
     "name": "stdout",
     "output_type": "stream",
     "text": [
      "max_depth=8, learning_rate=0.05, n_estimators=50, Accuracy: 62.31%\n",
      "max_depth=8, learning_rate=0.05, n_estimators=100, Accuracy: 63.61%\n",
      "max_depth=8, learning_rate=0.05, n_estimators=150, Accuracy: 64.12%\n",
      "max_depth=8, learning_rate=0.1, n_estimators=50, Accuracy: 63.51%\n",
      "max_depth=8, learning_rate=0.1, n_estimators=100, Accuracy: 64.38%\n",
      "max_depth=8, learning_rate=0.1, n_estimators=150, Accuracy: 64.64%\n",
      "max_depth=8, learning_rate=0.15, n_estimators=50, Accuracy: 63.77%\n",
      "max_depth=8, learning_rate=0.15, n_estimators=100, Accuracy: 64.52%\n",
      "max_depth=8, learning_rate=0.15, n_estimators=150, Accuracy: 64.67%\n",
      "max_depth=10, learning_rate=0.05, n_estimators=50, Accuracy: 63.66%\n",
      "max_depth=10, learning_rate=0.05, n_estimators=100, Accuracy: 64.49%\n",
      "max_depth=10, learning_rate=0.05, n_estimators=150, Accuracy: 64.78%\n",
      "max_depth=10, learning_rate=0.1, n_estimators=50, Accuracy: 64.39%\n",
      "max_depth=10, learning_rate=0.1, n_estimators=100, Accuracy: 65.04%\n",
      "max_depth=10, learning_rate=0.1, n_estimators=150, Accuracy: 64.98%\n",
      "max_depth=10, learning_rate=0.15, n_estimators=50, Accuracy: 64.80%\n",
      "max_depth=10, learning_rate=0.15, n_estimators=100, Accuracy: 65.00%\n",
      "max_depth=10, learning_rate=0.15, n_estimators=150, Accuracy: 64.75%\n",
      "max_depth=12, learning_rate=0.05, n_estimators=50, Accuracy: 64.42%\n",
      "max_depth=12, learning_rate=0.05, n_estimators=100, Accuracy: 64.88%\n",
      "max_depth=12, learning_rate=0.05, n_estimators=150, Accuracy: 64.96%\n",
      "max_depth=12, learning_rate=0.1, n_estimators=50, Accuracy: 64.88%\n",
      "max_depth=12, learning_rate=0.1, n_estimators=100, Accuracy: 64.97%\n",
      "max_depth=12, learning_rate=0.1, n_estimators=150, Accuracy: 64.98%\n",
      "max_depth=12, learning_rate=0.15, n_estimators=50, Accuracy: 64.87%\n",
      "max_depth=12, learning_rate=0.15, n_estimators=100, Accuracy: 64.77%\n",
      "max_depth=12, learning_rate=0.15, n_estimators=150, Accuracy: 64.38%\n",
      "Best Accuracy: 65.04%\n"
     ]
    },
    {
     "data": {
      "image/png": "[encoded data removed]",
      "text/plain": [
       "<Figure size 800x600 with 2 Axes>"
      ]
     },
     "metadata": {},
     "output_type": "display_data"
    }
   ],
   "source": [
    "from sklearn.metrics import accuracy_score, confusion_matrix\n",
    "import seaborn as sns\n",
    "import matplotlib.pyplot as plt\n",
    "from xgboost import XGBClassifier\n",
    "\n",
    "# List of hyperparameters to test\n",
    "depths = [8, 10, 12]  # max_depth values\n",
    "learning_rates = [0.05, 0.1, 0.15]  # learning rates\n",
    "n_estimators = [50, 100, 150]  # number of estimators\n",
    "\n",
    "# Store the best result\n",
    "best_accuracy = 0\n",
    "best_model = None\n",
    "\n",
    "# Try different combinations of hyperparameters\n",
    "for max_depth in depths:\n",
    "    for learning_rate in learning_rates:\n",
    "        for n_est in n_estimators:\n",
    "            # Define the model with the current set of hyperparameters\n",
    "            model = XGBClassifier(\n",
    "                objective='multi:softmax',\n",
    "                num_class=3,\n",
    "                max_depth=max_depth,\n",
    "                learning_rate=learning_rate,\n",
    "                n_estimators=n_est,\n",
    "                subsample=1.0,\n",
    "                colsample_bytree=0.8\n",
    "            )\n",
    "\n",
    "            # Fit the model\n",
    "            model.fit(x_train, y_train)\n",
    "\n",
    "            # Make predictions\n",
    "            preds = model.predict(x_test)\n",
    "\n",
    "            # Evaluate the model\n",
    "            accuracy = accuracy_score(y_test, preds)\n",
    "            print(f\"max_depth={max_depth}, learning_rate={learning_rate}, n_estimators={n_est}, Accuracy: {accuracy * 100:.2f}%\")\n",
    "\n",
    "            # Update the best model if necessary\n",
    "            if accuracy > best_accuracy:\n",
    "                best_accuracy = accuracy\n",
    "                best_model = model\n",
    "\n",
    "# Final evaluation of the best model\n",
    "print(f\"Best Accuracy: {best_accuracy * 100:.2f}%\")\n",
    "\n",
    "# Generate and plot the confusion matrix for the best model\n",
    "cm = confusion_matrix(y_test, best_model.predict(x_test))\n",
    "plt.figure(figsize=(8, 6))\n",
    "sns.heatmap(cm, annot=True, fmt='d', cmap='Blues', xticklabels=[f'Class {i}' for i in range(3)], yticklabels=[f'Class {i}' for i in range(3)])\n",
    "plt.xlabel('Predicted')\n",
    "plt.ylabel('Actual')\n",
    "plt.title('Confusion Matrix')\n",
    "plt.show()\n"
   ]
  },
  {
   "cell_type": "markdown",
   "id": "030ff115",
   "metadata": {
    "papermill": {
     "duration": 0.015729,
     "end_time": "2025-01-15T19:09:55.793213",
     "exception": false,
     "start_time": "2025-01-15T19:09:55.777484",
     "status": "completed"
    },
    "tags": []
   },
   "source": [
    "<h2>Pytorch</h2>"
   ]
  },
  {
   "cell_type": "markdown",
   "id": "e784dd12",
   "metadata": {
    "papermill": {
     "duration": 0.015582,
     "end_time": "2025-01-15T19:09:55.824169",
     "exception": false,
     "start_time": "2025-01-15T19:09:55.808587",
     "status": "completed"
    },
    "tags": []
   },
   "source": [
    "convert data to pytorch tensors "
   ]
  },
  {
   "cell_type": "code",
   "execution_count": 33,
   "id": "69410e6a",
   "metadata": {
    "execution": {
     "iopub.execute_input": "2025-01-15T19:09:55.858555Z",
     "iopub.status.busy": "2025-01-15T19:09:55.858085Z",
     "iopub.status.idle": "2025-01-15T19:09:59.503931Z",
     "shell.execute_reply": "2025-01-15T19:09:59.502791Z"
    },
    "papermill": {
     "duration": 3.666374,
     "end_time": "2025-01-15T19:09:59.506088",
     "exception": false,
     "start_time": "2025-01-15T19:09:55.839714",
     "status": "completed"
    },
    "tags": []
   },
   "outputs": [],
   "source": [
    "import torch\n",
    "\n",
    "# If your data is in DataFrames, convert them to NumPy arrays first\n",
    "x_train_tensor = torch.tensor(x.values, dtype=torch.float32)\n",
    "y_train_tensor = torch.tensor(y.values, dtype=torch.long)  # Use long for classification labels\n",
    "test_tensor = torch.tensor(test.values, dtype=torch.float32)\n",
    "#y_test_tensor = torch.tensor(y_test.values, dtype=torch.long)\n"
   ]
  },
  {
   "cell_type": "markdown",
   "id": "23c33d37",
   "metadata": {
    "papermill": {
     "duration": 0.015026,
     "end_time": "2025-01-15T19:09:59.547593",
     "exception": false,
     "start_time": "2025-01-15T19:09:59.532567",
     "status": "completed"
    },
    "tags": []
   },
   "source": [
    "create a custome data set"
   ]
  },
  {
   "cell_type": "code",
   "execution_count": 34,
   "id": "6128bb34",
   "metadata": {
    "execution": {
     "iopub.execute_input": "2025-01-15T19:09:59.580372Z",
     "iopub.status.busy": "2025-01-15T19:09:59.579681Z",
     "iopub.status.idle": "2025-01-15T19:09:59.599269Z",
     "shell.execute_reply": "2025-01-15T19:09:59.597890Z"
    },
    "papermill": {
     "duration": 0.038018,
     "end_time": "2025-01-15T19:09:59.600872",
     "exception": true,
     "start_time": "2025-01-15T19:09:59.562854",
     "status": "failed"
    },
    "tags": []
   },
   "outputs": [
    {
     "ename": "NameError",
     "evalue": "name 'Dataset' is not defined",
     "output_type": "error",
     "traceback": [
      "\u001b[0;31m---------------------------------------------------------------------------\u001b[0m",
      "\u001b[0;31mNameError\u001b[0m                                 Traceback (most recent call last)",
      "\u001b[0;32m<ipython-input-34-cb71cac01df6>\u001b[0m in \u001b[0;36m<cell line: 1>\u001b[0;34m()\u001b[0m\n\u001b[0;32m----> 1\u001b[0;31m \u001b[0;32mclass\u001b[0m \u001b[0mCustomDataset\u001b[0m\u001b[0;34m(\u001b[0m\u001b[0mDataset\u001b[0m\u001b[0;34m)\u001b[0m\u001b[0;34m:\u001b[0m\u001b[0;34m\u001b[0m\u001b[0;34m\u001b[0m\u001b[0m\n\u001b[0m\u001b[1;32m      2\u001b[0m     \u001b[0;32mdef\u001b[0m \u001b[0m__init__\u001b[0m\u001b[0;34m(\u001b[0m\u001b[0mself\u001b[0m\u001b[0;34m,\u001b[0m \u001b[0mx\u001b[0m\u001b[0;34m,\u001b[0m \u001b[0my\u001b[0m\u001b[0;34m=\u001b[0m\u001b[0;32mNone\u001b[0m\u001b[0;34m)\u001b[0m\u001b[0;34m:\u001b[0m\u001b[0;34m\u001b[0m\u001b[0;34m\u001b[0m\u001b[0m\n\u001b[1;32m      3\u001b[0m         \u001b[0mself\u001b[0m\u001b[0;34m.\u001b[0m\u001b[0mx\u001b[0m \u001b[0;34m=\u001b[0m \u001b[0mx\u001b[0m\u001b[0;34m\u001b[0m\u001b[0;34m\u001b[0m\u001b[0m\n\u001b[1;32m      4\u001b[0m         \u001b[0mself\u001b[0m\u001b[0;34m.\u001b[0m\u001b[0my\u001b[0m \u001b[0;34m=\u001b[0m \u001b[0my\u001b[0m\u001b[0;34m\u001b[0m\u001b[0;34m\u001b[0m\u001b[0m\n\u001b[1;32m      5\u001b[0m \u001b[0;34m\u001b[0m\u001b[0m\n",
      "\u001b[0;31mNameError\u001b[0m: name 'Dataset' is not defined"
     ]
    }
   ],
   "source": [
    "class CustomDataset(Dataset):\n",
    "    def __init__(self, x, y=None):\n",
    "        self.x = x\n",
    "        self.y = y\n",
    "\n",
    "    def __len__(self):\n",
    "        return len(self.x)\n",
    "\n",
    "    def __getitem__(self, idx):\n",
    "        if self.y is None:  # If no labels (test set), return only the input features\n",
    "            return self.x[idx]\n",
    "        return self.x[idx], self.y[idx]\n",
    "\n",
    "# Create datasets\n",
    "train_dataset = CustomDataset(x_train_tensor, y_train_tensor)\n",
    "test_dataset = CustomDataset(test_tensor)  # No labels for test dataset\n",
    "\n",
    "# DataLoader for batching\n",
    "train_loader = DataLoader(train_dataset, batch_size=64, shuffle=True)\n",
    "test_loader = DataLoader(test_dataset, batch_size=64, shuffle=False)\n"
   ]
  },
  {
   "cell_type": "markdown",
   "id": "d9ac3484",
   "metadata": {
    "papermill": {
     "duration": null,
     "end_time": null,
     "exception": null,
     "start_time": null,
     "status": "pending"
    },
    "tags": []
   },
   "source": [
    "handle batching and shuffling"
   ]
  },
  {
   "cell_type": "markdown",
   "id": "affa449b",
   "metadata": {
    "papermill": {
     "duration": null,
     "end_time": null,
     "exception": null,
     "start_time": null,
     "status": "pending"
    },
    "tags": []
   },
   "source": [
    "define the model"
   ]
  },
  {
   "cell_type": "code",
   "execution_count": null,
   "id": "9e38f340",
   "metadata": {
    "execution": {
     "iopub.execute_input": "2025-01-13T05:46:41.798249Z",
     "iopub.status.busy": "2025-01-13T05:46:41.797863Z",
     "iopub.status.idle": "2025-01-13T05:46:41.814070Z",
     "shell.execute_reply": "2025-01-13T05:46:41.813086Z",
     "shell.execute_reply.started": "2025-01-13T05:46:41.798216Z"
    },
    "papermill": {
     "duration": null,
     "end_time": null,
     "exception": null,
     "start_time": null,
     "status": "pending"
    },
    "tags": []
   },
   "outputs": [],
   "source": [
    "import torch\n",
    "import torch.nn as nn  # Import nn\n",
    "import torch.optim as optim\n",
    "\n",
    "class MyModel(nn.Module):\n",
    "    def __init__(self, input_size, output_size):\n",
    "        super(MyModel, self).__init__()\n",
    "        self.fc1 = nn.Linear(input_size, 128)\n",
    "        self.fc2 = nn.Linear(128, 64)\n",
    "        self.fc3 = nn.Linear(64, output_size)\n",
    "\n",
    "    def forward(self, x):\n",
    "        x = torch.relu(self.fc1(x))\n",
    "        x = torch.relu(self.fc2(x))\n",
    "        x = self.fc3(x)\n",
    "        return x\n",
    "\n",
    "# Define model\n",
    "input_size = x.shape[1]  # Number of features\n",
    "output_size = len(torch.unique(y_train_tensor))  # Number of classes\n",
    "model = MyModel(input_size, output_size)\n",
    "\n"
   ]
  },
  {
   "cell_type": "markdown",
   "id": "04cbabac",
   "metadata": {
    "papermill": {
     "duration": null,
     "end_time": null,
     "exception": null,
     "start_time": null,
     "status": "pending"
    },
    "tags": []
   },
   "source": [
    "define the loss function and optimizer"
   ]
  },
  {
   "cell_type": "code",
   "execution_count": null,
   "id": "97fce979",
   "metadata": {
    "execution": {
     "iopub.execute_input": "2025-01-13T05:46:54.851914Z",
     "iopub.status.busy": "2025-01-13T05:46:54.851511Z",
     "iopub.status.idle": "2025-01-13T05:46:55.447123Z",
     "shell.execute_reply": "2025-01-13T05:46:55.446027Z",
     "shell.execute_reply.started": "2025-01-13T05:46:54.851885Z"
    },
    "papermill": {
     "duration": null,
     "end_time": null,
     "exception": null,
     "start_time": null,
     "status": "pending"
    },
    "tags": []
   },
   "outputs": [],
   "source": [
    "from torch.optim.lr_scheduler import StepLR\n",
    "\n",
    "criterion = nn.CrossEntropyLoss()  # For classification\n",
    "optimizer = optim.Adam(model.parameters(), lr=0.001)\n",
    "scheduler = StepLR(optimizer, step_size=5, gamma=0.1)  # Reduce learning rate after every 5 epochs\n"
   ]
  },
  {
   "cell_type": "code",
   "execution_count": null,
   "id": "7e7f552a",
   "metadata": {
    "papermill": {
     "duration": null,
     "end_time": null,
     "exception": null,
     "start_time": null,
     "status": "pending"
    },
    "tags": []
   },
   "outputs": [],
   "source": [
    "#train the model"
   ]
  },
  {
   "cell_type": "code",
   "execution_count": null,
   "id": "6ca61fba",
   "metadata": {
    "execution": {
     "iopub.execute_input": "2025-01-13T05:47:14.675739Z",
     "iopub.status.busy": "2025-01-13T05:47:14.675150Z",
     "iopub.status.idle": "2025-01-13T05:48:19.795650Z",
     "shell.execute_reply": "2025-01-13T05:48:19.794642Z",
     "shell.execute_reply.started": "2025-01-13T05:47:14.675702Z"
    },
    "papermill": {
     "duration": null,
     "end_time": null,
     "exception": null,
     "start_time": null,
     "status": "pending"
    },
    "tags": []
   },
   "outputs": [],
   "source": [
    "device = torch.device('cuda' if torch.cuda.is_available() else 'cpu')\n",
    "model.to(device)\n",
    "\n",
    "for epoch in range(10):  # Number of epochs\n",
    "    model.train()\n",
    "    for x_batch, y_batch in train_loader:\n",
    "        x_batch, y_batch = x_batch.to(device), y_batch.to(device)\n",
    "        \n",
    "        # Forward pass\n",
    "        outputs = model(x_batch)\n",
    "        loss = criterion(outputs, y_batch)\n",
    "        \n",
    "        # Backward pass and optimization\n",
    "        optimizer.zero_grad()\n",
    "        loss.backward()\n",
    "        optimizer.step()\n",
    "\n",
    "    print(f'Epoch [{epoch+1}/10], Loss: {loss.item():.4f}')\n"
   ]
  },
  {
   "cell_type": "markdown",
   "id": "f9b00217",
   "metadata": {
    "papermill": {
     "duration": null,
     "end_time": null,
     "exception": null,
     "start_time": null,
     "status": "pending"
    },
    "tags": []
   },
   "source": [
    "evaluate the model"
   ]
  },
  {
   "cell_type": "code",
   "execution_count": null,
   "id": "6013304a",
   "metadata": {
    "execution": {
     "iopub.execute_input": "2025-01-13T05:49:30.114156Z",
     "iopub.status.busy": "2025-01-13T05:49:30.113745Z",
     "iopub.status.idle": "2025-01-13T05:49:31.241003Z",
     "shell.execute_reply": "2025-01-13T05:49:31.239819Z",
     "shell.execute_reply.started": "2025-01-13T05:49:30.114121Z"
    },
    "papermill": {
     "duration": null,
     "end_time": null,
     "exception": null,
     "start_time": null,
     "status": "pending"
    },
    "tags": []
   },
   "outputs": [],
   "source": [
    "import numpy as np\n",
    "import pandas as pd\n",
    "import torch\n",
    "from sklearn.metrics import confusion_matrix, ConfusionMatrixDisplay, accuracy_score\n",
    "import matplotlib.pyplot as plt\n",
    "\n",
    "# Ensure model is in evaluation mode\n",
    "model.eval()\n",
    "\n",
    "# Initialize a list to store predictions\n",
    "predictions = []\n",
    "\n",
    "# Initialize a list to store true labels\n",
    "true_labels = []\n",
    "\n",
    "with torch.no_grad():\n",
    "    for x_batch, y_batch in test_loader:  # Include both x_batch and y_batch\n",
    "        x_batch = x_batch.to(device)\n",
    "        y_batch = y_batch.to(device)\n",
    "        \n",
    "        outputs = model(x_batch)\n",
    "        _, predicted = torch.max(outputs.data, 1)  # Get predicted class\n",
    "        predictions.extend(predicted.cpu().numpy())  # Add predictions to the list\n",
    "        true_labels.extend(y_batch.cpu().numpy())   # Add true labels to the list\n",
    "\n",
    "# Convert predictions and true labels to NumPy arrays\n",
    "predictions = np.array(predictions)\n",
    "true_labels = np.array(true_labels)\n",
    "\n",
    "# Calculate accuracy\n",
    "accuracy = accuracy_score(true_labels, predictions)\n",
    "print(f\"Accuracy: {accuracy:.2f}\")\n",
    "\n",
    "# Generate and plot the confusion matrix\n",
    "conf_matrix = confusion_matrix(true_labels, predictions)\n",
    "disp = ConfusionMatrixDisplay(confusion_matrix=conf_matrix)\n",
    "disp.plot(cmap=plt.cm.Blues)\n",
    "plt.title(\"Confusion Matrix\")\n",
    "plt.show()\n"
   ]
  },
  {
   "cell_type": "code",
   "execution_count": null,
   "id": "5aa6b1eb",
   "metadata": {
    "papermill": {
     "duration": null,
     "end_time": null,
     "exception": null,
     "start_time": null,
     "status": "pending"
    },
    "tags": []
   },
   "outputs": [],
   "source": []
  },
  {
   "cell_type": "code",
   "execution_count": null,
   "id": "888bad3c",
   "metadata": {
    "papermill": {
     "duration": null,
     "end_time": null,
     "exception": null,
     "start_time": null,
     "status": "pending"
    },
    "tags": []
   },
   "outputs": [],
   "source": []
  },
  {
   "cell_type": "code",
   "execution_count": null,
   "id": "9fe70046",
   "metadata": {
    "papermill": {
     "duration": null,
     "end_time": null,
     "exception": null,
     "start_time": null,
     "status": "pending"
    },
    "tags": []
   },
   "outputs": [],
   "source": []
  },
  {
   "cell_type": "code",
   "execution_count": null,
   "id": "c992c869",
   "metadata": {
    "papermill": {
     "duration": null,
     "end_time": null,
     "exception": null,
     "start_time": null,
     "status": "pending"
    },
    "tags": []
   },
   "outputs": [],
   "source": []
  },
  {
   "cell_type": "code",
   "execution_count": null,
   "id": "f28f9be1",
   "metadata": {
    "execution": {
     "iopub.execute_input": "2025-01-13T06:02:13.780443Z",
     "iopub.status.busy": "2025-01-13T06:02:13.780080Z",
     "iopub.status.idle": "2025-01-13T06:02:13.803609Z",
     "shell.execute_reply": "2025-01-13T06:02:13.802620Z",
     "shell.execute_reply.started": "2025-01-13T06:02:13.780397Z"
    },
    "papermill": {
     "duration": null,
     "end_time": null,
     "exception": null,
     "start_time": null,
     "status": "pending"
    },
    "tags": []
   },
   "outputs": [],
   "source": [
    "import torch\n",
    "\n",
    "# If your data is in DataFrames, convert them to NumPy arrays first\n",
    "x_train_tensor = torch.tensor(x_train.values, dtype=torch.float32)\n",
    "y_train_tensor = torch.tensor(y_train.values, dtype=torch.long)  # Use long for classification labels\n",
    "test_tensor = torch.tensor(x_test.values, dtype=torch.float32)\n",
    "y_test_tensor = torch.tensor(y_test.values, dtype=torch.long)\n"
   ]
  },
  {
   "cell_type": "code",
   "execution_count": null,
   "id": "edbae174",
   "metadata": {
    "execution": {
     "iopub.execute_input": "2025-01-13T06:02:27.931510Z",
     "iopub.status.busy": "2025-01-13T06:02:27.931176Z",
     "iopub.status.idle": "2025-01-13T06:02:27.943123Z",
     "shell.execute_reply": "2025-01-13T06:02:27.942033Z",
     "shell.execute_reply.started": "2025-01-13T06:02:27.931481Z"
    },
    "papermill": {
     "duration": null,
     "end_time": null,
     "exception": null,
     "start_time": null,
     "status": "pending"
    },
    "tags": []
   },
   "outputs": [],
   "source": [
    "import torch\n",
    "import torch.nn as nn  # Import nn\n",
    "import torch.optim as optim\n",
    "\n",
    "class MyModel(nn.Module):\n",
    "    def __init__(self, input_size, output_size):\n",
    "        super(MyModel, self).__init__()\n",
    "        self.fc1 = nn.Linear(input_size, 128)\n",
    "        self.fc2 = nn.Linear(128, 64)\n",
    "        self.fc3 = nn.Linear(64, output_size)\n",
    "\n",
    "    def forward(self, x):\n",
    "        x = torch.relu(self.fc1(x))\n",
    "        x = torch.relu(self.fc2(x))\n",
    "        x = self.fc3(x)\n",
    "        return x\n",
    "\n",
    "# Define model\n",
    "input_size = x_train.shape[1]  # Number of features\n",
    "output_size = len(torch.unique(y_train_tensor))  # Number of classes\n",
    "model = MyModel(input_size, output_size)\n",
    "\n"
   ]
  },
  {
   "cell_type": "code",
   "execution_count": null,
   "id": "a9fa3022",
   "metadata": {
    "execution": {
     "iopub.execute_input": "2025-01-13T06:03:15.174359Z",
     "iopub.status.busy": "2025-01-13T06:03:15.173990Z",
     "iopub.status.idle": "2025-01-13T06:03:15.181200Z",
     "shell.execute_reply": "2025-01-13T06:03:15.180051Z",
     "shell.execute_reply.started": "2025-01-13T06:03:15.174327Z"
    },
    "papermill": {
     "duration": null,
     "end_time": null,
     "exception": null,
     "start_time": null,
     "status": "pending"
    },
    "tags": []
   },
   "outputs": [],
   "source": [
    "class CustomDataset(Dataset):\n",
    "    def __init__(self, x, y=None):\n",
    "        self.x = x\n",
    "        self.y = y\n",
    "\n",
    "    def __len__(self):\n",
    "        return len(self.x)\n",
    "\n",
    "    def __getitem__(self, idx):\n",
    "        if self.y is None:  # If no labels (test set), return only the input features\n",
    "            return self.x[idx]\n",
    "        return self.x[idx], self.y[idx]\n",
    "\n",
    "# Create datasets\n",
    "train_dataset = CustomDataset(x_train_tensor, y_train_tensor)\n",
    "test_dataset = CustomDataset(test_tensor, y_test_tensor)  \n",
    "\n",
    "# DataLoader for batching\n",
    "train_loader = DataLoader(train_dataset, batch_size=64, shuffle=True)\n",
    "test_loader = DataLoader(test_dataset, batch_size=64, shuffle=False)\n"
   ]
  },
  {
   "cell_type": "code",
   "execution_count": null,
   "id": "4ec29aac",
   "metadata": {
    "execution": {
     "iopub.execute_input": "2025-01-13T06:03:26.523433Z",
     "iopub.status.busy": "2025-01-13T06:03:26.523078Z",
     "iopub.status.idle": "2025-01-13T06:03:26.529979Z",
     "shell.execute_reply": "2025-01-13T06:03:26.528950Z",
     "shell.execute_reply.started": "2025-01-13T06:03:26.523406Z"
    },
    "papermill": {
     "duration": null,
     "end_time": null,
     "exception": null,
     "start_time": null,
     "status": "pending"
    },
    "tags": []
   },
   "outputs": [],
   "source": [
    "import torch\n",
    "import torch.nn as nn\n",
    "import torch.optim as optim\n",
    "from torch.utils.data import DataLoader\n",
    "from sklearn.metrics import accuracy_score  # Or any metric you prefer\n",
    "\n",
    "# Example of a simple neural network model\n",
    "class SimpleNN(nn.Module):\n",
    "    def __init__(self, input_dim, hidden_dim, output_dim):\n",
    "        super(SimpleNN, self).__init__()\n",
    "        self.fc1 = nn.Linear(input_dim, hidden_dim)\n",
    "        self.fc2 = nn.Linear(hidden_dim, output_dim)\n",
    "\n",
    "    def forward(self, x):\n",
    "        x = torch.relu(self.fc1(x))\n",
    "        x = self.fc2(x)\n",
    "        return x\n",
    "\n",
    "# Example of loss function and evaluation metric\n",
    "criterion = nn.CrossEntropyLoss()\n"
   ]
  },
  {
   "cell_type": "code",
   "execution_count": null,
   "id": "51dc3300",
   "metadata": {
    "execution": {
     "iopub.execute_input": "2025-01-13T06:03:35.408913Z",
     "iopub.status.busy": "2025-01-13T06:03:35.408401Z",
     "iopub.status.idle": "2025-01-13T06:03:35.417743Z",
     "shell.execute_reply": "2025-01-13T06:03:35.416633Z",
     "shell.execute_reply.started": "2025-01-13T06:03:35.408868Z"
    },
    "papermill": {
     "duration": null,
     "end_time": null,
     "exception": null,
     "start_time": null,
     "status": "pending"
    },
    "tags": []
   },
   "outputs": [],
   "source": [
    "def train_and_evaluate(model, train_loader, test_loader, criterion, optimizer, device):\n",
    "    model.train()\n",
    "    for epoch in range(epochs):\n",
    "        for inputs, labels in train_loader:\n",
    "            inputs, labels = inputs.to(device), labels.to(device)\n",
    "            optimizer.zero_grad()\n",
    "            outputs = model(inputs)\n",
    "            loss = criterion(outputs, labels)\n",
    "            loss.backward()\n",
    "            optimizer.step()\n",
    "\n",
    "    # Evaluate on the test set\n",
    "    model.eval()\n",
    "    all_preds = []\n",
    "    all_labels = []\n",
    "    with torch.no_grad():\n",
    "        for inputs, labels in test_loader:\n",
    "            inputs, labels = inputs.to(device), labels.to(device)\n",
    "            outputs = model(inputs)\n",
    "            _, preds = torch.max(outputs, 1)\n",
    "            all_preds.extend(preds.cpu().numpy())\n",
    "            all_labels.extend(labels.cpu().numpy())\n",
    "\n",
    "    accuracy = accuracy_score(all_labels, all_preds)\n",
    "    return accuracy\n"
   ]
  },
  {
   "cell_type": "code",
   "execution_count": null,
   "id": "ce2e8d48",
   "metadata": {
    "execution": {
     "iopub.execute_input": "2025-01-13T06:09:19.589304Z",
     "iopub.status.busy": "2025-01-13T06:09:19.588945Z",
     "iopub.status.idle": "2025-01-13T06:17:03.862659Z",
     "shell.execute_reply": "2025-01-13T06:17:03.861502Z",
     "shell.execute_reply.started": "2025-01-13T06:09:19.589279Z"
    },
    "papermill": {
     "duration": null,
     "end_time": null,
     "exception": null,
     "start_time": null,
     "status": "pending"
    },
    "tags": []
   },
   "outputs": [],
   "source": [
    "import torch\n",
    "import torch.optim as optim\n",
    "import torch.nn as nn\n",
    "from sklearn.metrics import accuracy_score\n",
    "from torch.utils.data import DataLoader\n",
    "\n",
    "# Example of a simple neural network model\n",
    "class SimpleNN(nn.Module):\n",
    "    def __init__(self, input_dim, hidden_dim, output_dim):\n",
    "        super(SimpleNN, self).__init__()\n",
    "        self.fc1 = nn.Linear(input_dim, hidden_dim)\n",
    "        self.fc2 = nn.Linear(hidden_dim, output_dim)\n",
    "\n",
    "    def forward(self, x):\n",
    "        x = torch.relu(self.fc1(x))\n",
    "        x = self.fc2(x)\n",
    "        return x\n",
    "\n",
    "# Function to train and evaluate the model\n",
    "def train_and_evaluate(model, train_loader, test_loader, criterion, optimizer, device, epochs):\n",
    "    model.train()\n",
    "    for epoch in range(epochs):\n",
    "        for inputs, labels in train_loader:\n",
    "            inputs, labels = inputs.to(device), labels.to(device)\n",
    "            optimizer.zero_grad()\n",
    "            outputs = model(inputs)\n",
    "            loss = criterion(outputs, labels)\n",
    "            loss.backward()\n",
    "            optimizer.step()\n",
    "\n",
    "    # Evaluate on the test set\n",
    "    model.eval()\n",
    "    all_preds = []\n",
    "    all_labels = []\n",
    "    with torch.no_grad():\n",
    "        for inputs, labels in test_loader:\n",
    "            inputs, labels = inputs.to(device), labels.to(device)\n",
    "            outputs = model(inputs)\n",
    "            _, preds = torch.max(outputs, 1)\n",
    "            all_preds.extend(preds.cpu().numpy())\n",
    "            all_labels.extend(labels.cpu().numpy())\n",
    "\n",
    "    accuracy = accuracy_score(all_labels, all_preds)\n",
    "    return accuracy\n",
    "\n",
    "# Set device (CPU or GPU)\n",
    "device = torch.device('cuda' if torch.cuda.is_available() else 'cpu')\n",
    "\n",
    "# Hyperparameters to manually test\n",
    "learning_rates = [0.001, 0.01]  # Example values\n",
    "batch_sizes = [32, 64]          # Example values\n",
    "hidden_dims = [64, 128]         # Example values\n",
    "epochs = 10                     # Example epochs\n",
    "\n",
    "# Store the best hyperparameters and accuracy\n",
    "best_accuracy = 0\n",
    "best_params = {}\n",
    "\n",
    "# Loop through all combinations of hyperparameters (Grid Search)\n",
    "for lr in learning_rates:\n",
    "    for batch_size in batch_sizes:\n",
    "        for hidden_dim in hidden_dims:\n",
    "            # Prepare model, optimizer, and loss function\n",
    "            model = SimpleNN(input_dim=x_train_tensor.shape[1], hidden_dim=hidden_dim, output_dim=3).to(device)\n",
    "            optimizer = optim.Adam(model.parameters(), lr=lr)\n",
    "            criterion = nn.CrossEntropyLoss()\n",
    "\n",
    "            # Update DataLoader with current batch size\n",
    "            train_loader = DataLoader(train_dataset, batch_size=batch_size, shuffle=True)\n",
    "            test_loader = DataLoader(test_dataset, batch_size=batch_size, shuffle=False)\n",
    "\n",
    "            # Train and evaluate the model with the current configuration\n",
    "            accuracy = train_and_evaluate(model, train_loader, test_loader, criterion, optimizer, device, epochs)\n",
    "\n",
    "            # Print the accuracy for the current hyperparameter set\n",
    "            print(f\"Accuracy for LR={lr}, Batch Size={batch_size}, Hidden Dim={hidden_dim}: {accuracy}\")\n",
    "\n",
    "            # Track the best hyperparameters and accuracy\n",
    "            if accuracy > best_accuracy:\n",
    "                best_accuracy = accuracy\n",
    "                best_params = {'learning_rate': lr, 'batch_size': batch_size, 'hidden_dim': hidden_dim}\n",
    "\n",
    "# Print the best hyperparameters and accuracy\n",
    "print(f\"\\nBest Hyperparameters: {best_params}\")\n",
    "print(f\"Best Accuracy: {best_accuracy}\")\n"
   ]
  }
 ],
 "metadata": {
  "kaggle": {
   "accelerator": "none",
   "dataSources": [
    {
     "databundleVersionId": 10664448,
     "sourceId": 90922,
     "sourceType": "competition"
    }
   ],
   "dockerImageVersionId": 30822,
   "isGpuEnabled": false,
   "isInternetEnabled": false,
   "language": "python",
   "sourceType": "notebook"
  },
  "kernelspec": {
   "display_name": "Python 3",
   "language": "python",
   "name": "python3"
  },
  "language_info": {
   "codemirror_mode": {
    "name": "ipython",
    "version": 3
   },
   "file_extension": ".py",
   "mimetype": "text/x-python",
   "name": "python",
   "nbconvert_exporter": "python",
   "pygments_lexer": "ipython3",
   "version": "3.10.12"
  },
  "papermill": {
   "default_parameters": {},
   "duration": 475.423972,
   "end_time": "2025-01-15T19:10:02.142146",
   "environment_variables": {},
   "exception": true,
   "input_path": "__notebook__.ipynb",
   "output_path": "__notebook__.ipynb",
   "parameters": {},
   "start_time": "2025-01-15T19:02:06.718174",
   "version": "2.6.0"
  }
 },
 "nbformat": 4,
 "nbformat_minor": 5
}
